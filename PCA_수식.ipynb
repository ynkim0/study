{
  "nbformat": 4,
  "nbformat_minor": 0,
  "metadata": {
    "colab": {
      "name": "PCA_수식.ipynb",
      "provenance": [],
      "authorship_tag": "ABX9TyO8hN6SfRckQteCw/6tbqKN",
      "include_colab_link": true
    },
    "kernelspec": {
      "name": "python3",
      "display_name": "Python 3"
    },
    "language_info": {
      "name": "python"
    }
  },
  "cells": [
    {
      "cell_type": "markdown",
      "metadata": {
        "id": "view-in-github",
        "colab_type": "text"
      },
      "source": [
        "<a href=\"https://colab.research.google.com/github/ynkim0/study/blob/main/PCA_%EC%88%98%EC%8B%9D.ipynb\" target=\"_parent\"><img src=\"https://colab.research.google.com/assets/colab-badge.svg\" alt=\"Open In Colab\"/></a>"
      ]
    },
    {
      "cell_type": "markdown",
      "source": [
        "## 1. 선형변환, 고유값, 고유벡터"
      ],
      "metadata": {
        "id": "eYWaCKdj1djU"
      }
    },
    {
      "cell_type": "markdown",
      "source": [
        "$$x -> Ax$$"
      ],
      "metadata": {
        "id": "khWLK6yi3Xfa"
      }
    },
    {
      "cell_type": "markdown",
      "source": [
        "$$Ax=\\lambda x$$"
      ],
      "metadata": {
        "id": "NxQ9m1Lz304J"
      }
    },
    {
      "cell_type": "markdown",
      "source": [
        "<https://bkshin.tistory.com/entry/%EB%A8%B8%EC%8B%A0%EB%9F%AC%EB%8B%9D-19-%ED%96%89%EB%A0%AC> (그림)"
      ],
      "metadata": {
        "id": "OPuhwSd_3EfZ"
      }
    },
    {
      "cell_type": "markdown",
      "source": [
        "## 2. 고유값분해"
      ],
      "metadata": {
        "id": "Hi6SDROQ4qV1"
      }
    },
    {
      "cell_type": "markdown",
      "source": [
        "$$Av_1=λ_1 v_1$$\n",
        "$$Av_2=λ_2 v_2$$\n",
        "$$.$$\n",
        "$$.$$\n",
        "$$.$$\n",
        "$$Av_n=λ_n v_n$$"
      ],
      "metadata": {
        "id": "qplO-t_E5ElZ"
      }
    },
    {
      "cell_type": "markdown",
      "source": [
        "$$A[v_1 v_2 ... v_n]=[λ_1v_1 λ_2v_2 ... λ_nv_n ]$$\n",
        "$$=[v_1 v_2 ... v_n] \\begin{bmatrix}λ_1&&&0\\\\&λ_2\\\\&&\\ddots\\\\0&&&λ_n \\end{bmatrix}$$"
      ],
      "metadata": {
        "id": "jxntxGV59xZI"
      }
    },
    {
      "cell_type": "markdown",
      "source": [
        "$$AV=VΛ$$"
      ],
      "metadata": {
        "id": "755cdw6RAZse"
      }
    },
    {
      "cell_type": "markdown",
      "source": [
        "$$AVV^{-1}=VΛV^{-1}$$\n",
        "$$A=VΛV^{-1}$$"
      ],
      "metadata": {
        "id": "eY7Sf__GBi0_"
      }
    },
    {
      "cell_type": "markdown",
      "source": [
        "## 3. PCA"
      ],
      "metadata": {
        "id": "vKqAbvcZBdR1"
      }
    },
    {
      "cell_type": "markdown",
      "source": [
        "- 목표 : 데이터의 분산을 최대화하는 orthogonal matrix 구하기"
      ],
      "metadata": {
        "id": "YPoasCF7FQ4l"
      }
    },
    {
      "cell_type": "markdown",
      "source": [
        "- Max $Var(Z)$\n",
        "\n"
      ],
      "metadata": {
        "id": "7YCZqn-9XGPH"
      }
    },
    {
      "cell_type": "markdown",
      "source": [
        "- orthogonal matrix? 모든 column들이 서로 직교하는 행렬 "
      ],
      "metadata": {
        "id": "wCU9e72PHSeh"
      }
    },
    {
      "cell_type": "markdown",
      "source": [
        "- $aa^T=I <=> a^T=a^{-1}$"
      ],
      "metadata": {
        "id": "t8G3KSDJIeFT"
      }
    },
    {
      "cell_type": "markdown",
      "source": [
        "$$Z_1 = a_{1, 1}X_1 + a_{1, 2}X_2 + ... + a_{1, n}X_n$$\n",
        "\n",
        "$$Z_2 = a_{2, 1}X_1 + a_{2, 2}X_2 + ... + a_{2, n}X_n$$\n",
        "\n",
        "$$.                                .$$\n",
        "\n",
        "$$.                                .$$\n",
        "\n",
        "$$.                                .$$\n",
        "\n",
        "$$Z_n = a_{n, 1}X_1 + a_{n, 2}X_2 + ... + a_{n, n}X_n$$\n",
        "<center>(정사영)"
      ],
      "metadata": {
        "id": "sIELjE96ZUv-"
      }
    },
    {
      "cell_type": "markdown",
      "source": [
        "$$Z=\\alpha^T X$$"
      ],
      "metadata": {
        "id": "dJ04R9kibVIO"
      }
    },
    {
      "cell_type": "markdown",
      "source": [
        "<Center>Max $Var(Z)=Var(\\alpha^T X)=\\alpha^T Var(X) \\alpha=\\alpha^T \\Sigma \\alpha$"
      ],
      "metadata": {
        "id": "3dLVSxtBasjO"
      }
    },
    {
      "cell_type": "markdown",
      "source": [
        "$$\\Sigma=E\\Lambda E^T$$<center>(고유값분해)"
      ],
      "metadata": {
        "id": "8hzpYULGbwNI"
      }
    },
    {
      "cell_type": "markdown",
      "source": [
        "$$\\alpha^T \\Sigma \\alpha=\\alpha^T E\\Lambda E^T \\alpha$$"
      ],
      "metadata": {
        "id": "fjvcVxmicwsd"
      }
    },
    {
      "cell_type": "markdown",
      "source": [
        "$$B=E^T\\alpha$$"
      ],
      "metadata": {
        "id": "0AHaXQG5fcKG"
      }
    },
    {
      "cell_type": "markdown",
      "source": [
        "$$\\alpha^T E\\Lambda E^T \\alpha=B^T\\Lambda B$$"
      ],
      "metadata": {
        "id": "TuQZ6ZdofX9e"
      }
    },
    {
      "cell_type": "markdown",
      "source": [
        "$$\\lambda_1\\beta_1^2+\\lambda_2\\beta_2^2+...+\\lambda_m\\beta_m^2$$\n",
        "<center>(전개)"
      ],
      "metadata": {
        "id": "muCqebGSffOA"
      }
    },
    {
      "cell_type": "code",
      "source": [
        ""
      ],
      "metadata": {
        "id": "Lpe4bcCbcTxL"
      },
      "execution_count": null,
      "outputs": []
    }
  ]
}