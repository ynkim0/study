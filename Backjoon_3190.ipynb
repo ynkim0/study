{
  "nbformat": 4,
  "nbformat_minor": 0,
  "metadata": {
    "colab": {
      "name": "Backjoon_3190.ipynb",
      "provenance": [],
      "authorship_tag": "ABX9TyPkh6PvpolDj9brBY62nCG1",
      "include_colab_link": true
    },
    "kernelspec": {
      "name": "python3",
      "display_name": "Python 3"
    },
    "language_info": {
      "name": "python"
    }
  },
  "cells": [
    {
      "cell_type": "markdown",
      "metadata": {
        "id": "view-in-github",
        "colab_type": "text"
      },
      "source": [
        "<a href=\"https://colab.research.google.com/github/ynkim0/study/blob/main/Backjoon_3190.ipynb\" target=\"_parent\"><img src=\"https://colab.research.google.com/assets/colab-badge.svg\" alt=\"Open In Colab\"/></a>"
      ]
    },
    {
      "cell_type": "code",
      "execution_count": null,
      "metadata": {
        "id": "V5oLti2mPGV4"
      },
      "outputs": [],
      "source": [
        "# 백준 3190번 문제 https://www.acmicpc.net/problem/3190\n",
        "\n",
        "# 풀이 방법 : 뱀 몸의 위치를 머리부터 꼬리까지 저장하는 list를 만들어 list의 원소가 중복되거나 위치가 보드의 크기 N을 넘어가면 종료"
      ]
    },
    {
      "cell_type": "code",
      "source": [
        "def check_out_of_board(head_location, N):\n",
        "  if head_location[0] == N or head_location[1] == N or head_location[0] == -1 or head_location[1] == -1:\n",
        "    return False\n",
        "  else:\n",
        "    return True"
      ],
      "metadata": {
        "id": "xOSpBrhHPyiq"
      },
      "execution_count": null,
      "outputs": []
    },
    {
      "cell_type": "code",
      "source": [
        "def check_bump_itself(location_list):\n",
        "  if location_list[0] in location_list[1:]:\n",
        "    return False\n",
        "  else: \n",
        "    return True"
      ],
      "metadata": {
        "id": "eb9he3l4TUYa"
      },
      "execution_count": null,
      "outputs": []
    },
    {
      "cell_type": "code",
      "source": [
        "def change_direction(direction, turn_direction):\n",
        "  if direction == 'right':\n",
        "    if turn_direction == 'L':\n",
        "      return 'up'\n",
        "    else:\n",
        "      return 'down'\n",
        "  elif direction == 'left':\n",
        "    if turn_direction == 'L':\n",
        "      return 'down'\n",
        "    else:\n",
        "      return 'up'\n",
        "  elif direction == 'up':\n",
        "    if turn_direction == 'L':\n",
        "      return 'left'\n",
        "    else:\n",
        "      return 'right'\n",
        "  elif direction == 'down':\n",
        "    if turn_direction == 'L':\n",
        "      return 'right':\n",
        "    else:\n",
        "      return 'left'"
      ],
      "metadata": {
        "id": "VKboB3sybJVB"
      },
      "execution_count": null,
      "outputs": []
    },
    {
      "cell_type": "code",
      "source": [
        "def next_room(location_list, turn_info, sec, direction):\n",
        "  if sec in turn_info.keys():\n",
        "    direction = "
      ],
      "metadata": {
        "id": "OGFyBjlJZyHz"
      },
      "execution_count": null,
      "outputs": []
    },
    {
      "cell_type": "code",
      "source": [
        "def can_eat_apple(apple_location, head_location)"
      ],
      "metadata": {
        "id": "FgTRlxcYYiV1"
      },
      "execution_count": null,
      "outputs": []
    },
    {
      "cell_type": "code",
      "source": [
        "apple_loction = []\n",
        "turn_info = dict()\n",
        "sec = 0\n",
        "location_list = [(0, 0)]\n",
        "direction = 'right'\n",
        "\n",
        "size = int(input())\n",
        "for _ in range(size):\n",
        "  apple = input().split(' ')\n",
        "  apple_location.append((int(apple[0]), int(apple[1])))\n",
        "turn_count = int(input())\n",
        "for _ in range(turn_count):\n",
        "  turn = input().split(' ')\n",
        "  turn_info[int(turn[0])] = turn[1]"
      ],
      "metadata": {
        "id": "5P9ijzt6VK15"
      },
      "execution_count": null,
      "outputs": []
    }
  ]
}