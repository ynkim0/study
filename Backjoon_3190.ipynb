{
  "nbformat": 4,
  "nbformat_minor": 0,
  "metadata": {
    "colab": {
      "name": "Backjoon_3190.ipynb",
      "provenance": [],
      "authorship_tag": "ABX9TyM34TfUcy5STKJPWCO3Vbfm",
      "include_colab_link": true
    },
    "kernelspec": {
      "name": "python3",
      "display_name": "Python 3"
    },
    "language_info": {
      "name": "python"
    }
  },
  "cells": [
    {
      "cell_type": "markdown",
      "metadata": {
        "id": "view-in-github",
        "colab_type": "text"
      },
      "source": [
        "<a href=\"https://colab.research.google.com/github/ynkim0/study/blob/main/Backjoon_3190.ipynb\" target=\"_parent\"><img src=\"https://colab.research.google.com/assets/colab-badge.svg\" alt=\"Open In Colab\"/></a>"
      ]
    },
    {
      "cell_type": "code",
      "execution_count": null,
      "metadata": {
        "id": "V5oLti2mPGV4"
      },
      "outputs": [],
      "source": [
        "# 백준 3190번 문제 https://www.acmicpc.net/problem/3190\n",
        "\n",
        "# 풀이 방법 : 뱀 몸의 위치를 머리부터 꼬리까지 저장하는 list를 만들어 list의 원소가 중복되거나 위치가 보드의 크기 N을 넘어가면 종료"
      ]
    },
    {
      "cell_type": "code",
      "source": [
        "def check_out_of_board(head_location, N):\n",
        "  if head_location[0] == N+1 or head_location[1] == N+1 or head_location[0] == 0 or head_location[1] == 0:\n",
        "    return True\n",
        "  else:\n",
        "    return False"
      ],
      "metadata": {
        "id": "xOSpBrhHPyiq"
      },
      "execution_count": 62,
      "outputs": []
    },
    {
      "cell_type": "code",
      "source": [
        "def check_bump_itself(location_list):\n",
        "  if len(location_list) >= 4 and location_list[0] in location_list[1:]:\n",
        "    return True\n",
        "  return False"
      ],
      "metadata": {
        "id": "eb9he3l4TUYa"
      },
      "execution_count": 71,
      "outputs": []
    },
    {
      "cell_type": "code",
      "source": [
        "def change_direction(direction, turn_direction):\n",
        "  if direction == 'right':\n",
        "    if turn_direction == 'L':\n",
        "      return 'up'\n",
        "    else:\n",
        "      return 'down'\n",
        "  elif direction == 'left':\n",
        "    if turn_direction == 'L':\n",
        "      return 'down'\n",
        "    else:\n",
        "      return 'up'\n",
        "  elif direction == 'up':\n",
        "    if turn_direction == 'L':\n",
        "      return 'left'\n",
        "    else:\n",
        "      return 'right'\n",
        "  elif direction == 'down':\n",
        "    if turn_direction == 'L':\n",
        "      return 'right'\n",
        "    else:\n",
        "      return 'left'"
      ],
      "metadata": {
        "id": "VKboB3sybJVB"
      },
      "execution_count": 4,
      "outputs": []
    },
    {
      "cell_type": "code",
      "source": [
        "def eat_apple_or_not(apple_location, location_list):\n",
        "  head_location = location_list[0]\n",
        "  if head_location in apple_location:\n",
        "    apple_location.remove(head_location)\n",
        "    return apple_location, location_list\n",
        "  else:\n",
        "    return apple_location, location_list[:-1]"
      ],
      "metadata": {
        "id": "LSrrjwoI_sfL"
      },
      "execution_count": 57,
      "outputs": []
    },
    {
      "cell_type": "code",
      "source": [
        "def next_room(location_list, turn_info, direction):\n",
        "  if sec in turn_info.keys():\n",
        "    direction = change_direction(direction, turn_info[sec])\n",
        "  if direction == 'right':\n",
        "    location_list.insert(0, (location_list[0][0], location_list[0][1]+1))\n",
        "  elif direction == 'left':\n",
        "    location_list.insert(0, (location_list[0][0], location_list[0][1]-1))\n",
        "  elif direction == 'up':\n",
        "    location_list.insert(0, (location_list[0][0]-1, location_list[0][1]))\n",
        "  elif direction == 'down':\n",
        "    location_list.insert(0, (location_list[0][0]+1, location_list[0][1]))\n",
        "  return location_list, direction"
      ],
      "metadata": {
        "id": "OGFyBjlJZyHz"
      },
      "execution_count": 56,
      "outputs": []
    },
    {
      "cell_type": "code",
      "source": [
        "apple_location = []\n",
        "turn_info = dict()\n",
        "sec = 0\n",
        "location_list = [(1, 1)]\n",
        "direction = 'right'\n",
        "\n",
        "size = int(input())\n",
        "apple_count = int(input())\n",
        "for _ in range(apple_count):\n",
        "  apple = input().split(' ')\n",
        "  apple_location.append((int(apple[0]), int(apple[1])))\n",
        "turn_count = int(input())\n",
        "for _ in range(turn_count):\n",
        "  turn = input().split(' ')\n",
        "  turn_info[int(turn[0])] = turn[1]\n",
        "while True:\n",
        "  location_list, direction = next_room(location_list, turn_info, direction)\n",
        "  if check_bump_itself(location_list) or check_out_of_board(location_list[0], size):\n",
        "    sec += 1\n",
        "    break\n",
        "  apple_location, location_list = eat_apple_or_not(apple_location, location_list)\n",
        "  sec += 1\n",
        "print(sec)"
      ],
      "metadata": {
        "id": "5P9ijzt6VK15",
        "colab": {
          "base_uri": "https://localhost:8080/"
        },
        "outputId": "f79f01b5-3f37-4f2b-e278-5717885ccef4"
      },
      "execution_count": 70,
      "outputs": [
        {
          "output_type": "stream",
          "name": "stdout",
          "text": [
            "10\n",
            "5\n",
            "1 5\n",
            "1 3\n",
            "1 2\n",
            "1 6\n",
            "1 7\n",
            "4\n",
            "8 D\n",
            "10 D\n",
            "11 D\n",
            "13 L\n",
            "[(1, 2), (1, 1)]\n",
            "apple!\n",
            "[(1, 3), (1, 2), (1, 1)]\n",
            "apple!\n",
            "[(1, 4), (1, 3), (1, 2), (1, 1)]\n",
            "[(1, 5), (1, 4), (1, 3), (1, 2)]\n",
            "apple!\n",
            "[(1, 6), (1, 5), (1, 4), (1, 3), (1, 2)]\n",
            "apple!\n",
            "[(1, 7), (1, 6), (1, 5), (1, 4), (1, 3), (1, 2)]\n",
            "apple!\n",
            "[(1, 8), (1, 7), (1, 6), (1, 5), (1, 4), (1, 3), (1, 2)]\n",
            "[(1, 9), (1, 8), (1, 7), (1, 6), (1, 5), (1, 4), (1, 3)]\n",
            "[(2, 9), (1, 9), (1, 8), (1, 7), (1, 6), (1, 5), (1, 4)]\n",
            "[(3, 9), (2, 9), (1, 9), (1, 8), (1, 7), (1, 6), (1, 5)]\n",
            "[(3, 8), (3, 9), (2, 9), (1, 9), (1, 8), (1, 7), (1, 6)]\n",
            "[(2, 8), (3, 8), (3, 9), (2, 9), (1, 9), (1, 8), (1, 7)]\n",
            "[(1, 8), (2, 8), (3, 8), (3, 9), (2, 9), (1, 9), (1, 8)]\n",
            "13\n"
          ]
        }
      ]
    }
  ]
}