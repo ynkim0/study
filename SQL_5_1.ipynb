{
  "nbformat": 4,
  "nbformat_minor": 0,
  "metadata": {
    "colab": {
      "name": "SQL_5_1.ipynb",
      "provenance": [],
      "collapsed_sections": [],
      "authorship_tag": "ABX9TyMTOHDBURi+AFAutyp9Fwxd",
      "include_colab_link": true
    },
    "kernelspec": {
      "name": "python3",
      "display_name": "Python 3"
    },
    "language_info": {
      "name": "python"
    }
  },
  "cells": [
    {
      "cell_type": "markdown",
      "metadata": {
        "id": "view-in-github",
        "colab_type": "text"
      },
      "source": [
        "<a href=\"https://colab.research.google.com/github/ynkim0/study/blob/main/SQL_5_1.ipynb\" target=\"_parent\"><img src=\"https://colab.research.google.com/assets/colab-badge.svg\" alt=\"Open In Colab\"/></a>"
      ]
    },
    {
      "cell_type": "code",
      "source": [
        "# We will first load an sql extension into our environment\n",
        "# This extension will allow us to work with sql on Colaboratory\n",
        "#\n",
        "%load_ext sql\n",
        "\n",
        "# We will then connect to our in memory sqlite database\n",
        "# NB: This database will cease to exist as soon as the database connection is closed.\n",
        "# We will learn more about how databases are created later in prep.\n",
        "#\n",
        "%sql sqlite://"
      ],
      "metadata": {
        "colab": {
          "base_uri": "https://localhost:8080/",
          "height": 35
        },
        "id": "Qmmvx_OQAkXY",
        "outputId": "54446a18-fb55-49dc-8881-d46aeb156599"
      },
      "execution_count": null,
      "outputs": [
        {
          "output_type": "execute_result",
          "data": {
            "text/plain": [
              "'Connected: @None'"
            ],
            "application/vnd.google.colaboratory.intrinsic+json": {
              "type": "string"
            }
          },
          "metadata": {},
          "execution_count": 1
        }
      ]
    },
    {
      "cell_type": "code",
      "source": [
        "%%sql\n",
        "DROP TABLE IF EXISTS mst_users;\n",
        "CREATE TABLE mst_users(\n",
        "    user_id         varchar(255)\n",
        "  , register_date   varchar(255)\n",
        "  , register_device integer\n",
        ");\n",
        "\n",
        "INSERT INTO mst_users\n",
        "VALUES\n",
        "    ('U001', '2016-08-26', 1)\n",
        "  , ('U002', '2016-08-26', 2)\n",
        "  , ('U003', '2016-08-27', 3)\n",
        ";"
      ],
      "metadata": {
        "colab": {
          "base_uri": "https://localhost:8080/"
        },
        "id": "eTT6rxDKBgCA",
        "outputId": "6027bcc0-3534-4f38-fac5-6e079acd3d1c"
      },
      "execution_count": null,
      "outputs": [
        {
          "output_type": "stream",
          "name": "stdout",
          "text": [
            " * sqlite://\n",
            "Done.\n",
            "Done.\n",
            "3 rows affected.\n"
          ]
        },
        {
          "output_type": "execute_result",
          "data": {
            "text/plain": [
              "[]"
            ]
          },
          "metadata": {},
          "execution_count": 6
        }
      ]
    },
    {
      "cell_type": "code",
      "source": [
        "%%sql\n",
        "SELECT\n",
        "  user_id,\n",
        "  CASE\n",
        "    WHEN register_device = 1 THEN '데스크톱'\n",
        "    WHEN register_device = 2 THEN '스마트폰'\n",
        "    WHEN register_device = 3 THEN '애플리케이션'\n",
        "    -- default 지정시, ELSE 구문 사용\n",
        "    ELSE ''\n",
        "  END AS device_name\n",
        "FROM mst_users;"
      ],
      "metadata": {
        "colab": {
          "base_uri": "https://localhost:8080/",
          "height": 141
        },
        "id": "KRIsl9KFBl27",
        "outputId": "fdd496e9-909a-4ec0-ec96-42c309836161"
      },
      "execution_count": null,
      "outputs": [
        {
          "output_type": "stream",
          "name": "stdout",
          "text": [
            " * sqlite://\n",
            "Done.\n"
          ]
        },
        {
          "output_type": "execute_result",
          "data": {
            "text/plain": [
              "[('U001', '데스크톱'), ('U002', '스마트폰'), ('U003', '애플리케이션')]"
            ],
            "text/html": [
              "<table>\n",
              "    <thead>\n",
              "        <tr>\n",
              "            <th>user_id</th>\n",
              "            <th>device_name</th>\n",
              "        </tr>\n",
              "    </thead>\n",
              "    <tbody>\n",
              "        <tr>\n",
              "            <td>U001</td>\n",
              "            <td>데스크톱</td>\n",
              "        </tr>\n",
              "        <tr>\n",
              "            <td>U002</td>\n",
              "            <td>스마트폰</td>\n",
              "        </tr>\n",
              "        <tr>\n",
              "            <td>U003</td>\n",
              "            <td>애플리케이션</td>\n",
              "        </tr>\n",
              "    </tbody>\n",
              "</table>"
            ]
          },
          "metadata": {},
          "execution_count": 7
        }
      ]
    },
    {
      "cell_type": "code",
      "source": [
        "%%sql\n",
        "DROP TABLE IF EXISTS access_log ;\n",
        "CREATE TABLE access_log (\n",
        "    stamp    varchar(255)\n",
        "  , referrer text\n",
        "  , url      text\n",
        ");\n",
        "\n",
        "INSERT INTO access_log \n",
        "VALUES\n",
        "    ('2016-08-26 12:02:00', 'http://www.other.com/path1/index.php?k1=v1&k2=v2#Ref1', 'http://www.example.com/video/detail?id=001')\n",
        "  , ('2016-08-26 12:02:01', 'http://www.other.net/path1/index.php?k1=v1&k2=v2#Ref1', 'http://www.example.com/video#ref'          )\n",
        "  , ('2016-08-26 12:02:01', 'https://www.other.com/'                               , 'http://www.example.com/book/detail?id=002' )\n",
        ";"
      ],
      "metadata": {
        "colab": {
          "base_uri": "https://localhost:8080/"
        },
        "id": "S4IjO8pxCSSe",
        "outputId": "07547d92-075c-4261-d0a4-582e899b6c5b"
      },
      "execution_count": null,
      "outputs": [
        {
          "output_type": "stream",
          "name": "stdout",
          "text": [
            " * sqlite://\n",
            "Done.\n",
            "Done.\n",
            "3 rows affected.\n"
          ]
        },
        {
          "output_type": "execute_result",
          "data": {
            "text/plain": [
              "[]"
            ]
          },
          "metadata": {},
          "execution_count": 8
        }
      ]
    },
    {
      "cell_type": "code",
      "source": [
        "%%sql\n",
        "SELECT\n",
        "  stamp\n",
        "  -- PostgreSQLdml ruddn substring 함수와 정규 표현식 사용\n",
        "  -- , substring(referrer from 'https?://([^/]*)') AS referrer_host\n",
        "  \n",
        "  -- Redshift의 경우, 정규 표현식에 그룹을 사용할 수 없으므로,\n",
        "  -- regexp_substr 함수와 regexp-replace 함수를 조합하여 사용\n",
        "  -- , regexp_replace(regexp_substr(referrer, 'https?://[^/]*'), 'https?://', '') AS referrer_host\n",
        "  -- Hive, SparkSQL의 경우, parse_url 함수로 호스트이름 추출\n",
        "  -- , parse_url(referrer, 'HOST') AS referrer_host\n",
        "\n",
        "  -- BigQuery의 경우, host 함수 사용\n",
        "  -- , host(referrer) AS referrer_host\n",
        "\n",
        "FROM access_log\n",
        ";"
      ],
      "metadata": {
        "colab": {
          "base_uri": "https://localhost:8080/"
        },
        "id": "MbfJlV3tGwEL",
        "outputId": "5e386180-2427-478f-e665-42cc8b7c5dab"
      },
      "execution_count": null,
      "outputs": [
        {
          "output_type": "stream",
          "name": "stdout",
          "text": [
            " * sqlite://\n",
            "(sqlite3.OperationalError) no such function: regexp_substr\n",
            "[SQL: SELECT\n",
            "  stamp\n",
            "  -- PostgreSQLdml ruddn substring 함수와 정규 표현식 사용\n",
            "  -- , substring(referrer from 'https?://([^/]*)') AS referrer_host\n",
            "  \n",
            "  -- Redshift의 경우, 정규 표현식에 그룹을 사용할 수 없으므로,\n",
            "  -- regexp_substr 함수와 regexp-replace 함수를 조합하여 사용\n",
            ", regexp_replace(regexp_substr(referrer, 'https?://[^/]*'), 'https?://', '') AS referrer_host\n",
            "  -- Hive, SparkSQL의 경우, parse_url 함수로 호스트이름 추출\n",
            "  -- , parse_url(referrer, 'HOST') AS referrer_host\n",
            "\n",
            "  -- BigQuery의 경우, host 함수 사용\n",
            "  -- , host(referrer) AS referrer_host\n",
            "\n",
            "FROM access_log\n",
            ";]\n",
            "(Background on this error at: https://sqlalche.me/e/14/e3q8)\n"
          ]
        }
      ]
    },
    {
      "cell_type": "code",
      "source": [
        ""
      ],
      "metadata": {
        "id": "kliXuav4HSP7"
      },
      "execution_count": null,
      "outputs": []
    }
  ]
}