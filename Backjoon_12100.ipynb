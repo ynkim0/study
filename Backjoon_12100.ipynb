{
  "nbformat": 4,
  "nbformat_minor": 0,
  "metadata": {
    "colab": {
      "name": "Backjoon_12100.ipynb",
      "provenance": [],
      "authorship_tag": "ABX9TyMTQW7cWYRdUcMOrjf2tBn/",
      "include_colab_link": true
    },
    "kernelspec": {
      "name": "python3",
      "display_name": "Python 3"
    },
    "language_info": {
      "name": "python"
    }
  },
  "cells": [
    {
      "cell_type": "markdown",
      "metadata": {
        "id": "view-in-github",
        "colab_type": "text"
      },
      "source": [
        "<a href=\"https://colab.research.google.com/github/ynkim0/study/blob/main/Backjoon_12100.ipynb\" target=\"_parent\"><img src=\"https://colab.research.google.com/assets/colab-badge.svg\" alt=\"Open In Colab\"/></a>"
      ]
    },
    {
      "cell_type": "code",
      "execution_count": null,
      "metadata": {
        "id": "L3Weud0nxSEA"
      },
      "outputs": [],
      "source": [
        "# 백준 12100번\n",
        "\n",
        "# https://www.acmicpc.net/problem/12100\n",
        "# 모든 잎은 상하좌우 이동 시 각각 다음 판의 상태를 가지는 자식을 4개씩 가짐\n",
        "# 깊이 5가 될 때까지 반복\n",
        "# 각 노드는 판에 있는 최대 수와 판의 상태를 나타내는 2차원 배열로 구성됨"
      ]
    },
    {
      "cell_type": "code",
      "source": [
        "def slide_right(size, blocks):\n",
        "  for line in blocks:\n",
        "    changed = ['F' * len(line)]\n",
        "    line_changed = 'yes'\n",
        "    while line_changed == 'yes':\n",
        "      line_changed = 'no'\n",
        "      for i in range(len(line) - 1):\n",
        "        if line[i] == line[i+1] and changed[i] == 'F':\n",
        "          line[i] = line[i] * 2\n",
        "          del line[i+1]\n",
        "          changed[i] ='T'\n",
        "          del changed[i+1]\n",
        "          line_changed = 'yes'"
      ],
      "metadata": {
        "id": "zNT2gu0a1HOW"
      },
      "execution_count": null,
      "outputs": []
    },
    {
      "cell_type": "code",
      "source": [
        "def slide_left(size, blocks):\n",
        "  for line in blocks:\n",
        "    changed = ['F' * len(line)]\n",
        "    line_changed = 'yes'\n",
        "    while line_changed == 'yes':\n",
        "      line_changed = 'no'\n",
        "      for i in range(len(line), 1, -1):\n",
        "        if line[i] == line[i-1] and changed[i] == 'F':\n",
        "          line[i] = line[i] * 2\n",
        "          del line[i-1]\n",
        "          changed[i] ='T'\n",
        "          del changed[i-1]\n",
        "          line_changed = 'yes'"
      ],
      "metadata": {
        "id": "mTxL_79y8Y7u"
      },
      "execution_count": null,
      "outputs": []
    },
    {
      "cell_type": "code",
      "source": [
        ""
      ],
      "metadata": {
        "id": "gSI-EtKh889b"
      },
      "execution_count": null,
      "outputs": []
    }
  ]
}